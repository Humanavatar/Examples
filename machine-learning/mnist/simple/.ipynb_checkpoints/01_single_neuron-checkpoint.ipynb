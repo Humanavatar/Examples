{
 "cells": [
  {
   "cell_type": "markdown",
   "metadata": {},
   "source": [
    "<h3>A Single Neuron Class</h3>"
   ]
  },
  {
   "cell_type": "code",
   "execution_count": 3,
   "metadata": {
    "collapsed": false
   },
   "outputs": [],
   "source": [
    "# Define a new class for our Neuron\n",
    "class Neuron(object):\n",
    "    '''\n",
    "    Class: A single Neuron\n",
    "    '''"
   ]
  },
  {
   "cell_type": "code",
   "execution_count": 12,
   "metadata": {
    "collapsed": true
   },
   "outputs": [],
   "source": [
    "    # Inputs and Weights are 1-D numpy arrays\n",
    "    # Bias is a Number\n",
    "    def forward(inputs, bias):\n",
    "        '''\n",
    "        Method: Forward Propagation\n",
    "        '''\n",
    "        # A numpy sum of our inputs and weights, added to our bias\n",
    "        cell_body_sum = np.sum(inputs * weights) + bias\n",
    "        # Activation Function: Sigmoidal\n",
    "        firing_rate = 1.0 / (1.0 + math.exp(-cell_body_sum))\n",
    "        return firing_rate"
   ]
  },
  {
   "cell_type": "markdown",
   "metadata": {},
   "source": [
    "<h3>Using Our Neuron</h3>"
   ]
  },
  {
   "cell_type": "code",
   "execution_count": 13,
   "metadata": {
    "collapsed": false
   },
   "outputs": [],
   "source": [
    "# Instantiate our Neuron Class\n",
    "neuron = Neuron()"
   ]
  },
  {
   "cell_type": "code",
   "execution_count": null,
   "metadata": {
    "collapsed": true
   },
   "outputs": [],
   "source": [
    "print neuron.forwa"
   ]
  }
 ],
 "metadata": {
  "kernelspec": {
   "display_name": "Python 2",
   "language": "python",
   "name": "python2"
  },
  "language_info": {
   "codemirror_mode": {
    "name": "ipython",
    "version": 2
   },
   "file_extension": ".py",
   "mimetype": "text/x-python",
   "name": "python",
   "nbconvert_exporter": "python",
   "pygments_lexer": "ipython2",
   "version": "2.7.10"
  }
 },
 "nbformat": 4,
 "nbformat_minor": 1
}
